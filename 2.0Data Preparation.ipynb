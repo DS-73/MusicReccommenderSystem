{
 "cells": [
  {
   "cell_type": "markdown",
   "id": "e3e61575",
   "metadata": {},
   "source": [
    "# Importing Libraries"
   ]
  },
  {
   "cell_type": "code",
   "execution_count": null,
   "id": "718795fc",
   "metadata": {},
   "outputs": [],
   "source": []
  },
  {
   "cell_type": "code",
   "execution_count": null,
   "id": "fe44d92f",
   "metadata": {},
   "outputs": [],
   "source": [
    "# Importing libraries\n",
    "import os\n",
    "import numpy as np\n",
    "import pandas as pd\n",
    "import librosa\n",
    "import IPython.display as ipd  \n",
    "import sklearn\n",
    "\n",
    "%matplotlib inline\n",
    "import matplotlib.pyplot as plt\n",
    "import librosa.display as ldisplay\n",
    "\n",
    "import random\n",
    "import re\n",
    "import shutil"
   ]
  },
  {
   "cell_type": "code",
   "execution_count": null,
   "id": "c7f4e76d",
   "metadata": {},
   "outputs": [],
   "source": []
  },
  {
   "cell_type": "code",
   "execution_count": null,
   "id": "e3e3a8e9",
   "metadata": {},
   "outputs": [],
   "source": []
  },
  {
   "cell_type": "code",
   "execution_count": null,
   "id": "49a19c87",
   "metadata": {},
   "outputs": [],
   "source": []
  },
  {
   "cell_type": "markdown",
   "id": "698e3f7c",
   "metadata": {},
   "source": [
    "# Feature Extraction"
   ]
  },
  {
   "cell_type": "code",
   "execution_count": null,
   "id": "6693fdc3",
   "metadata": {},
   "outputs": [],
   "source": []
  },
  {
   "cell_type": "code",
   "execution_count": null,
   "id": "a6e4d726",
   "metadata": {},
   "outputs": [],
   "source": [
    "def extract_feature(index):\n",
    "    image_name = output_directory + names[index] + '.png'\n",
    "\n",
    "    song = dataset_directory + names[index]\n",
    "    x, sr = librosa.load(song)\n",
    "    song, Index = librosa.effects.trim(x)\n",
    "\n",
    "    X = librosa.amplitude_to_db(np.abs(librosa.stft(song, hop_length = 512)), ref = np.max)\n",
    "\n",
    "    plt.figure(figsize = (10, 5))\n",
    "    librosa.display.specshow(X, sr = sr, hop_length = 512, x_axis = 'time', y_axis = 'log')\n",
    "    \n",
    "    # Turning off axis for clean image of spectrogram \n",
    "    plt.axis('off')\n",
    "    plt.savefig(image_name, dpi='figure',\n",
    "        bbox_inches = None, pad_inches = 0.0,\n",
    "        facecolor = 'auto', edgecolor = 'auto',\n",
    "        backend = None, metadata = None\n",
    "   )\n",
    "    \n",
    "    # IMPORTANT - Clearing of plot from memory to prevent memory from becoming full\n",
    "    plt.clf()     # Clear function\n",
    "    \n",
    "    print(\" > Song << \", index, \" >> Finished \")"
   ]
  },
  {
   "cell_type": "code",
   "execution_count": null,
   "id": "b7b4fa09",
   "metadata": {},
   "outputs": [],
   "source": []
  },
  {
   "cell_type": "code",
   "execution_count": null,
   "id": "f8117746",
   "metadata": {},
   "outputs": [],
   "source": []
  },
  {
   "cell_type": "markdown",
   "id": "d45ae2e0",
   "metadata": {},
   "source": [
    "# Youtube"
   ]
  },
  {
   "cell_type": "code",
   "execution_count": null,
   "id": "028a1899",
   "metadata": {},
   "outputs": [],
   "source": []
  },
  {
   "cell_type": "code",
   "execution_count": null,
   "id": "f2503d99",
   "metadata": {},
   "outputs": [],
   "source": [
    "# Audio and output directory\n",
    "dataset_directory = './dataset/Youtube/'\n",
    "output_directory = './Features/Youtube/'\n",
    "\n",
    "# Names of songs in Youtube directory\n",
    "names = os.listdir(dataset_directory)\n",
    "\n",
    "# Creating spectorgram one by one\n",
    "for index in range(len(names)):\n",
    "    print(\"> Name : \", names[index])\n",
    "    extract_feature(index)"
   ]
  },
  {
   "cell_type": "code",
   "execution_count": null,
   "id": "afafcecb",
   "metadata": {},
   "outputs": [],
   "source": []
  },
  {
   "cell_type": "code",
   "execution_count": null,
   "id": "34b9e84e",
   "metadata": {},
   "outputs": [],
   "source": []
  },
  {
   "cell_type": "code",
   "execution_count": null,
   "id": "b50257b2",
   "metadata": {},
   "outputs": [],
   "source": []
  },
  {
   "cell_type": "markdown",
   "id": "53df1212",
   "metadata": {},
   "source": [
    "# Spotify - Top Songs India Playlist"
   ]
  },
  {
   "cell_type": "code",
   "execution_count": null,
   "id": "3d0f4411",
   "metadata": {},
   "outputs": [],
   "source": []
  },
  {
   "cell_type": "code",
   "execution_count": null,
   "id": "88513792",
   "metadata": {
    "scrolled": true
   },
   "outputs": [],
   "source": [
    "# Audio and output directory\n",
    "dataset_directory = './dataset/TopSongsIndia/'\n",
    "output_directory = './Features/TopSongsIndia/'\n",
    "\n",
    "# Names of songs in Youtube directory\n",
    "names = os.listdir(dataset_directory)\n",
    "\n",
    "# Creating spectorgram one by one\n",
    "for index in range(len(names)):\n",
    "    print(\"> Name : \", names[index])\n",
    "    extract_feature(index)"
   ]
  },
  {
   "cell_type": "code",
   "execution_count": null,
   "id": "d3f38cdb",
   "metadata": {},
   "outputs": [],
   "source": []
  },
  {
   "cell_type": "code",
   "execution_count": null,
   "id": "f50611a2",
   "metadata": {},
   "outputs": [],
   "source": []
  },
  {
   "cell_type": "code",
   "execution_count": null,
   "id": "f8623dfa",
   "metadata": {},
   "outputs": [],
   "source": []
  },
  {
   "cell_type": "markdown",
   "id": "f7163eb1",
   "metadata": {},
   "source": [
    "# Liked Songs Playlist"
   ]
  },
  {
   "cell_type": "code",
   "execution_count": null,
   "id": "1b264f48",
   "metadata": {},
   "outputs": [],
   "source": []
  },
  {
   "cell_type": "code",
   "execution_count": null,
   "id": "5015287c",
   "metadata": {
    "scrolled": true
   },
   "outputs": [],
   "source": [
    "# Audio and output directory\n",
    "dataset_directory = './dataset/LikedSongs/'\n",
    "output_directory = './Features/LikedSongs/'\n",
    "\n",
    "# Names of songs in Youtube directory\n",
    "names = os.listdir(dataset_directory)\n",
    "\n",
    "# Creating spectorgram one by one\n",
    "for index in range(len(names)):\n",
    "    print(\"> Name : \", names[index])\n",
    "    extract_feature(index)"
   ]
  },
  {
   "cell_type": "code",
   "execution_count": null,
   "id": "972b3e41",
   "metadata": {},
   "outputs": [],
   "source": []
  },
  {
   "cell_type": "code",
   "execution_count": null,
   "id": "6d5d8d26",
   "metadata": {},
   "outputs": [],
   "source": []
  },
  {
   "cell_type": "code",
   "execution_count": null,
   "id": "6d532bf9",
   "metadata": {},
   "outputs": [],
   "source": []
  },
  {
   "cell_type": "code",
   "execution_count": null,
   "id": "3a60fda9",
   "metadata": {},
   "outputs": [],
   "source": []
  },
  {
   "cell_type": "markdown",
   "id": "327a472d",
   "metadata": {},
   "source": [
    "# Dataset Cleaning\n",
    "\n",
    "     - Renaming \n",
    "     - Prepairing for recommender System"
   ]
  },
  {
   "cell_type": "code",
   "execution_count": null,
   "id": "a2e8226f",
   "metadata": {},
   "outputs": [],
   "source": []
  },
  {
   "cell_type": "code",
   "execution_count": null,
   "id": "ea88f299",
   "metadata": {},
   "outputs": [],
   "source": [
    "def clean(name):\n",
    "    name = name.replace('.wav', '')\n",
    "    name = re.sub('[^A-Za-z_.]+', '', name)\n",
    "    name_list = name.split('_')\n",
    "    \n",
    "    string = ''\n",
    "    for data in name_list:\n",
    "        if len(data) > 0:\n",
    "            string = string + data\n",
    "            if data != '.png':\n",
    "                string = string + '_'\n",
    "                \n",
    "    while(string[-1] == '_'):\n",
    "        string = string[:-1]\n",
    "    return string\n",
    "    \n",
    "\n",
    "def renamefiles(path, folder):\n",
    "    names = os.listdir(path + folder)\n",
    "    output = path + 'Dataset/' + folder\n",
    "    os.mkdir(output)\n",
    "    \n",
    "    for name in names:\n",
    "        cleaned_name = clean(name)\n",
    "        src = path + folder + '/' + name\n",
    "        dest = output + '/' + cleaned_name[:-4]\n",
    "        \n",
    "        os.mkdir(dest)\n",
    "        \n",
    "        shutil.copy2(src, dest)\n",
    "        os.rename(dest + '/' + name, dest + '/' + cleaned_name)\n",
    "        print(\"Old name : \", name)\n",
    "        print(\"New name : \", cleaned_name)    \n",
    "        print(\"\\n\")"
   ]
  },
  {
   "cell_type": "code",
   "execution_count": null,
   "id": "8849f7e4",
   "metadata": {},
   "outputs": [],
   "source": []
  },
  {
   "cell_type": "code",
   "execution_count": null,
   "id": "c9af6d28",
   "metadata": {},
   "outputs": [],
   "source": []
  },
  {
   "cell_type": "code",
   "execution_count": null,
   "id": "6e7f0a5a",
   "metadata": {},
   "outputs": [],
   "source": [
    "directory = os.listdir('./Features/')\n",
    "print(directory)"
   ]
  },
  {
   "cell_type": "code",
   "execution_count": null,
   "id": "8c75f689",
   "metadata": {},
   "outputs": [],
   "source": []
  },
  {
   "cell_type": "code",
   "execution_count": null,
   "id": "95276902",
   "metadata": {
    "scrolled": true
   },
   "outputs": [],
   "source": [
    "# Output Directory\n",
    "if os.path.exists('./Features/Dataset'):\n",
    "    shutil.rmtree('./Features/Dataset')\n",
    "    \n",
    "os.mkdir('./Features/Dataset')\n",
    "for data in directory:\n",
    "    renamefiles('./Features/', data)"
   ]
  },
  {
   "cell_type": "code",
   "execution_count": null,
   "id": "d4cfe769",
   "metadata": {},
   "outputs": [],
   "source": []
  },
  {
   "cell_type": "code",
   "execution_count": null,
   "id": "a82b2616",
   "metadata": {},
   "outputs": [],
   "source": []
  }
 ],
 "metadata": {
  "kernelspec": {
   "display_name": "Python 3",
   "language": "python",
   "name": "python3"
  },
  "language_info": {
   "codemirror_mode": {
    "name": "ipython",
    "version": 3
   },
   "file_extension": ".py",
   "mimetype": "text/x-python",
   "name": "python",
   "nbconvert_exporter": "python",
   "pygments_lexer": "ipython3",
   "version": "3.8.8"
  }
 },
 "nbformat": 4,
 "nbformat_minor": 5
}
