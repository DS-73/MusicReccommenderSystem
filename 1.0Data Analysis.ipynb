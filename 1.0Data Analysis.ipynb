{
 "cells": [
  {
   "cell_type": "markdown",
   "id": "daf89c8a",
   "metadata": {},
   "source": [
    "# Libraries"
   ]
  },
  {
   "cell_type": "code",
   "execution_count": null,
   "id": "2e98af68",
   "metadata": {},
   "outputs": [],
   "source": []
  },
  {
   "cell_type": "code",
   "execution_count": null,
   "id": "7b586a0a",
   "metadata": {
    "scrolled": false
   },
   "outputs": [],
   "source": [
    "# Installing required libraries\n",
    "!pip install numpy\n",
    "!pip install pandas\n",
    "!pip install librosa\n",
    "!pip install matplotlib"
   ]
  },
  {
   "cell_type": "code",
   "execution_count": null,
   "id": "6fc859b8",
   "metadata": {},
   "outputs": [],
   "source": []
  },
  {
   "cell_type": "code",
   "execution_count": null,
   "id": "c9525b3c",
   "metadata": {},
   "outputs": [],
   "source": [
    "# Importing libraries\n",
    "import os\n",
    "import numpy as np\n",
    "import pandas as pd\n",
    "import librosa\n",
    "import IPython.display as ipd  \n",
    "import sklearn\n",
    "\n",
    "%matplotlib inline\n",
    "import matplotlib.pyplot as plt\n",
    "import librosa.display as ldisplay\n",
    "\n",
    "import random\n",
    "import re\n",
    "import shutil"
   ]
  },
  {
   "cell_type": "code",
   "execution_count": null,
   "id": "5902c574",
   "metadata": {},
   "outputs": [],
   "source": []
  },
  {
   "cell_type": "code",
   "execution_count": null,
   "id": "2c0b7926",
   "metadata": {},
   "outputs": [],
   "source": []
  },
  {
   "cell_type": "markdown",
   "id": "5be9cf9f",
   "metadata": {},
   "source": [
    "### Dataset"
   ]
  },
  {
   "cell_type": "code",
   "execution_count": null,
   "id": "d33897f3",
   "metadata": {},
   "outputs": [],
   "source": []
  },
  {
   "cell_type": "code",
   "execution_count": null,
   "id": "117b7790",
   "metadata": {},
   "outputs": [],
   "source": [
    "songs = os.listdir('./dataset/Youtube/')"
   ]
  },
  {
   "cell_type": "code",
   "execution_count": null,
   "id": "359c8640",
   "metadata": {},
   "outputs": [],
   "source": [
    "print(\"---- Dataset Information ----\")\n",
    "print(\"> Size : \", len(songs))\n",
    "\n",
    "print(\" - Names - \")\n",
    "count = 1\n",
    "for name in songs:\n",
    "    print(count, \" > \", name)\n",
    "    count = count + 1"
   ]
  },
  {
   "cell_type": "code",
   "execution_count": null,
   "id": "93431e3e",
   "metadata": {},
   "outputs": [],
   "source": []
  },
  {
   "cell_type": "code",
   "execution_count": null,
   "id": "c6e4fe28",
   "metadata": {},
   "outputs": [],
   "source": [
    "# Picked a random song\n",
    "audio = './dataset/Youtube/' + songs[128]"
   ]
  },
  {
   "cell_type": "code",
   "execution_count": null,
   "id": "89e9288e",
   "metadata": {},
   "outputs": [],
   "source": [
    "# Playing audio\n",
    "ipd.Audio(audio)"
   ]
  },
  {
   "cell_type": "code",
   "execution_count": null,
   "id": "a544382f",
   "metadata": {},
   "outputs": [],
   "source": []
  },
  {
   "cell_type": "code",
   "execution_count": null,
   "id": "6a19132f",
   "metadata": {},
   "outputs": [],
   "source": [
    "# # ---- Random Song Test ----\n",
    "\n",
    "# # Analysing song at random\n",
    "# index = random.randint(0, len(name)-1)\n",
    "\n",
    "# # Seleting song\n",
    "# song = './dataset/Youtube/' + songs[index]\n",
    "# x, sr = librosa.load(song)\n",
    "\n",
    "# # Play song\n",
    "# ipd.Audio(song)"
   ]
  },
  {
   "cell_type": "code",
   "execution_count": null,
   "id": "57472538",
   "metadata": {},
   "outputs": [],
   "source": []
  },
  {
   "cell_type": "code",
   "execution_count": null,
   "id": "f711aa37",
   "metadata": {},
   "outputs": [],
   "source": [
    "# Loading our song using librosa for analysis and visualization\n",
    "\n",
    "x, sr = librosa.load(audio, sr = None)\n",
    "print(\"Sampling rate : \", sr)\n"
   ]
  },
  {
   "cell_type": "code",
   "execution_count": null,
   "id": "99f2ff5b",
   "metadata": {},
   "outputs": [],
   "source": []
  },
  {
   "cell_type": "code",
   "execution_count": null,
   "id": "d2cc7c82",
   "metadata": {},
   "outputs": [],
   "source": [
    "# Displaying our song as a waveform\n",
    "\n",
    "%matplotlib inline\n",
    "plt.figure(figsize=(14, 5))\n",
    "\n",
    "ldisplay.waveplot(x, sr = sr)"
   ]
  },
  {
   "cell_type": "code",
   "execution_count": null,
   "id": "492b545f",
   "metadata": {},
   "outputs": [],
   "source": []
  },
  {
   "cell_type": "markdown",
   "id": "4252f215",
   "metadata": {},
   "source": [
    "# Spectral Centroid"
   ]
  },
  {
   "cell_type": "code",
   "execution_count": null,
   "id": "d5bc4f8a",
   "metadata": {},
   "outputs": [],
   "source": []
  },
  {
   "cell_type": "code",
   "execution_count": null,
   "id": "91f8cc74",
   "metadata": {},
   "outputs": [],
   "source": [
    "# Spectral Centroid Calculation\n",
    "\n",
    "spectral_centroids = librosa.feature.spectral_centroid(x, sr = sr)\n",
    "spectral_centroids = spectral_centroids[0]\n",
    "\n",
    "# Normalizing centroid value\n",
    "normal_centroid = sklearn.preprocessing.minmax_scale(spectral_centroids)\n",
    "\n",
    "# Converting frames to Time for graph\n",
    "frames = range(len(spectral_centroids))\n",
    "time = librosa.frames_to_time(frames)\n",
    "\n",
    "\n",
    "# Plotting graph\n",
    "plt.figure(figsize = (14, 5))\n",
    "librosa.display.waveplot(x, sr = sr, alpha = 0.5)\n",
    "\n",
    "plt.plot(time,\n",
    "        normal_centroid,\n",
    "         color='orange',\n",
    ")\n"
   ]
  },
  {
   "cell_type": "code",
   "execution_count": null,
   "id": "4310b63e",
   "metadata": {},
   "outputs": [],
   "source": []
  },
  {
   "cell_type": "markdown",
   "id": "acf56542",
   "metadata": {},
   "source": [
    "# Spectral Rolloff"
   ]
  },
  {
   "cell_type": "code",
   "execution_count": null,
   "id": "aab020d1",
   "metadata": {},
   "outputs": [],
   "source": []
  },
  {
   "cell_type": "code",
   "execution_count": null,
   "id": "1450f916",
   "metadata": {},
   "outputs": [],
   "source": [
    "# Spectral Centroid Calculation\n",
    "\n",
    "spectral_rolloff = librosa.feature.spectral_rolloff(x, sr = sr)\n",
    "spectral_rolloff = spectral_rolloff[0]\n",
    "\n",
    "# Normalizing centroid value\n",
    "normal_rolloff = sklearn.preprocessing.minmax_scale(spectral_rolloff)\n",
    "\n",
    "# Converting frames to Time for graph\n",
    "frames = range(len(normal_rolloff))\n",
    "time = librosa.frames_to_time(frames)\n",
    "\n",
    "# Plotting graph\n",
    "plt.figure(figsize = (14, 5))\n",
    "librosa.display.waveplot(x, sr = sr, alpha = 0.5)\n",
    "\n",
    "plt.plot(time,\n",
    "        normal_rolloff,\n",
    "         color='orange',\n",
    ")\n"
   ]
  },
  {
   "cell_type": "code",
   "execution_count": null,
   "id": "d5f8b185",
   "metadata": {},
   "outputs": [],
   "source": []
  },
  {
   "cell_type": "markdown",
   "id": "e1f86954",
   "metadata": {},
   "source": [
    "# MFCC"
   ]
  },
  {
   "cell_type": "code",
   "execution_count": null,
   "id": "1ecb7e52",
   "metadata": {},
   "outputs": [],
   "source": []
  },
  {
   "cell_type": "code",
   "execution_count": null,
   "id": "3c6b42eb",
   "metadata": {},
   "outputs": [],
   "source": [
    "# Mel-frequency cepstral coefficients\n",
    "mfccs = librosa.feature.mfcc(x, sr = sr)\n",
    "\n",
    "fig, ax = plt.subplots()\n",
    "ax.set(title = '--- MFCC ---')\n",
    "\n",
    "ldisplay.specshow(mfccs,\n",
    "                         sr = sr,\n",
    "                         x_axis = 'mel'\n",
    ")\n"
   ]
  },
  {
   "cell_type": "code",
   "execution_count": null,
   "id": "f11cacdb",
   "metadata": {},
   "outputs": [],
   "source": []
  },
  {
   "cell_type": "markdown",
   "id": "37d8d392",
   "metadata": {},
   "source": [
    "# Spectrogram"
   ]
  },
  {
   "cell_type": "code",
   "execution_count": null,
   "id": "350c257f",
   "metadata": {},
   "outputs": [],
   "source": []
  },
  {
   "cell_type": "code",
   "execution_count": null,
   "id": "c2b598b8",
   "metadata": {},
   "outputs": [],
   "source": [
    "#           -----------------------------------------------\n",
    "#\n",
    "#      Note - Spectrogram was used in this project to build recommender\n",
    "#\n",
    "#           -----------------------------------------------"
   ]
  },
  {
   "cell_type": "code",
   "execution_count": null,
   "id": "acd32ad7",
   "metadata": {},
   "outputs": [],
   "source": []
  },
  {
   "cell_type": "code",
   "execution_count": null,
   "id": "7862d591",
   "metadata": {},
   "outputs": [],
   "source": [
    "# Trimming silent part from beginning and from the end is there is any\n",
    "# To reduce the length of song\n",
    "\n",
    "song, Index = librosa.effects.trim(\n",
    "    x,\n",
    "    top_db = 60,\n",
    "    frame_length = 2048,\n",
    "    hop_length = 512\n",
    ")\n",
    "\n",
    "# Converting to Db scale using Short-Term Fourier transform aka STFT\n",
    "X = librosa.amplitude_to_db(np.abs(librosa.stft(song, hop_length = 512)), ref=np.max)\n",
    "\n",
    "# Setting figure size and title of spectrogram\n",
    "plt.figure(figsize=(10, 5))\n",
    "plt.title(\"Spectrogram\")\n",
    "\n",
    "# Spectrogram\n",
    "# Graph of frequency which varies with time \n",
    "librosa.display.specshow(\n",
    "    X,\n",
    "    sr = sr,\n",
    "    hop_length = 512,\n",
    "    x_axis = 'time',\n",
    "    y_axis = 'log'\n",
    ")"
   ]
  },
  {
   "cell_type": "code",
   "execution_count": null,
   "id": "c3ebdad5",
   "metadata": {},
   "outputs": [],
   "source": []
  },
  {
   "cell_type": "code",
   "execution_count": null,
   "id": "1f74f6c8",
   "metadata": {},
   "outputs": [],
   "source": []
  }
 ],
 "metadata": {
  "kernelspec": {
   "display_name": "Python 3",
   "language": "python",
   "name": "python3"
  },
  "language_info": {
   "codemirror_mode": {
    "name": "ipython",
    "version": 3
   },
   "file_extension": ".py",
   "mimetype": "text/x-python",
   "name": "python",
   "nbconvert_exporter": "python",
   "pygments_lexer": "ipython3",
   "version": "3.8.8"
  }
 },
 "nbformat": 4,
 "nbformat_minor": 5
}
