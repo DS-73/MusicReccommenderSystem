{
 "cells": [
  {
   "cell_type": "markdown",
   "metadata": {
    "id": "nvaWflmB0HbN"
   },
   "source": [
    "# Importing Libraries"
   ]
  },
  {
   "cell_type": "code",
   "execution_count": null,
   "metadata": {
    "id": "6bmiuAkfz_S-"
   },
   "outputs": [],
   "source": []
  },
  {
   "cell_type": "code",
   "execution_count": null,
   "metadata": {
    "id": "B6mgWVAv0yi-"
   },
   "outputs": [],
   "source": [
    "import os\n",
    "import numpy as np\n",
    "import pandas as pd\n",
    "import matplotlib.pyplot as plt\n",
    "\n",
    "from PIL import Image\n",
    "from sklearn.metrics.pairwise import cosine_similarity, cosine_distances"
   ]
  },
  {
   "cell_type": "code",
   "execution_count": null,
   "metadata": {
    "id": "dOPniVkz04D9"
   },
   "outputs": [],
   "source": []
  },
  {
   "cell_type": "code",
   "execution_count": null,
   "metadata": {
    "id": "zf_fYrdkyPAJ"
   },
   "outputs": [],
   "source": [
    "# # Mounting Google Drive \n",
    "# from google.colab import drive\n",
    "# drive.mount('/content/drive/')"
   ]
  },
  {
   "cell_type": "code",
   "execution_count": null,
   "metadata": {
    "id": "yql70CXw0Nab"
   },
   "outputs": [],
   "source": []
  },
  {
   "cell_type": "code",
   "execution_count": null,
   "metadata": {
    "colab": {
     "base_uri": "https://localhost:8080/"
    },
    "id": "XA-Rg0tz04Ga",
    "outputId": "b661e9ff-3ff4-4fd6-ac9f-aa15e5989a8d"
   },
   "outputs": [],
   "source": [
    "# Checking what resources we have enables\n",
    "# Such as CPU, GPU\n",
    "\n",
    "from tensorflow.python.client import device_lib\n",
    "\n",
    "print(\"---- Resources ----\\n\")\n",
    "print(device_lib.list_local_devices())\n",
    "\n",
    "print(\"   -------------   \")"
   ]
  },
  {
   "cell_type": "code",
   "execution_count": null,
   "metadata": {
    "id": "FbI0_pRr04I-"
   },
   "outputs": [],
   "source": []
  },
  {
   "cell_type": "code",
   "execution_count": null,
   "metadata": {
    "id": "D8cn96JM04OS"
   },
   "outputs": [],
   "source": [
    "# Path to dataset stored in gdrive \n",
    "\n",
    "youtube = 'DATA_PATH'\n",
    "liked_songs = 'DATA_PATH'\n",
    "top_songs = 'DATA_PATH'"
   ]
  },
  {
   "cell_type": "code",
   "execution_count": null,
   "metadata": {
    "id": "ucDy2f_d04Q5"
   },
   "outputs": [],
   "source": []
  },
  {
   "cell_type": "code",
   "execution_count": null,
   "metadata": {
    "id": "oOBY8umq04bO"
   },
   "outputs": [],
   "source": []
  },
  {
   "cell_type": "code",
   "execution_count": null,
   "metadata": {
    "id": "vnfdjGjE2LPl"
   },
   "outputs": [],
   "source": [
    "class Music_Recommender():\n",
    "    # Constructor\n",
    "    def __init__(self):\n",
    "      self.similarity_scores = []\n",
    "      self.base_song = []\n",
    "\n",
    "    def process_audio(self, audio):\n",
    "        audio_arr = np.asarray(audio)\n",
    "        flat_audio = audio_arr.flatten()\n",
    "        \n",
    "        return flat_audio\n",
    "\n",
    "    def fit_song(self, song):\n",
    "        song = Image.open(song)\n",
    "        self.base_song = self.process_audio(song)\n",
    "\n",
    "    def analysis(self, path):\n",
    "      folder_dir = os.listdir(path)\n",
    "      for folder in folder_dir:\n",
    "          songs_dir = path + '/' + folder  \n",
    "          for song in os.listdir(songs_dir):\n",
    "            audio = Image.open(songs_dir + '/' + song)\n",
    "            processed_audio = self.process_audio(audio)\n",
    "\n",
    "            score = np.sum(self.get_similarity(processed_audio))\n",
    "            self.similarity_scores.append([score, song])\n",
    "\n",
    "    def run(self):\n",
    "        self.analysis(path = youtube)\n",
    "        self.analysis(path = top_songs)\n",
    "\n",
    "    def get_similarity(self, comp_audio):\n",
    "      return cosine_similarity(self.base_song.reshape(1,-1),comp_audio.reshape(1,-1))\n",
    "\n",
    "    def get_recommendation_n(self, n):\n",
    "      if len(self.similarity_scores) == 0:\n",
    "        print(\" > Failed ! ! !\")\n",
    "        return\n",
    "\n",
    "      self.similarity_scores = sorted(self.similarity_scores, key=lambda x: x[1], reverse=True)\n",
    "      for x in range(0, n):\n",
    "        print(' >', x, ': ', self.similarity_scores[x][1],'\\n > Similarity : ', self.similarity_scores[x][0])\n",
    "\n",
    "    def recommend(self):\n",
    "      if len(self.similarity_scores) == 0:\n",
    "        print(\" > Failed ! ! !\")\n",
    "        return\n",
    "\n",
    "      self.similarity_scores = sorted(self.similarity_scores, key=lambda x: x[1])\n",
    "      print(' > Song: ', self.similarity_scores[0][1],'\\n > Similarity : ', min(self.similarity_scores[0][0], 1.00))\n",
    "      return self.similarity_scores[0][0]\n",
    "      \n"
   ]
  },
  {
   "cell_type": "code",
   "execution_count": null,
   "metadata": {
    "id": "DGsSnoLA2LSM"
   },
   "outputs": [],
   "source": []
  },
  {
   "cell_type": "code",
   "execution_count": null,
   "metadata": {
    "id": "cB4TQOUk2LUt"
   },
   "outputs": [],
   "source": []
  },
  {
   "cell_type": "code",
   "execution_count": null,
   "metadata": {
    "id": "OG1nL_ve2LXf"
   },
   "outputs": [],
   "source": [
    "music_recommender = Music_Recommender()\n",
    "\n",
    "music_recommender.fit_song(liked_songs + 'Lover/' + 'Lover.png')\n",
    "music_recommender.run()"
   ]
  },
  {
   "cell_type": "code",
   "execution_count": null,
   "metadata": {
    "colab": {
     "base_uri": "https://localhost:8080/"
    },
    "id": "9JvLF1Ky2Lar",
    "outputId": "f751a416-4a42-47ce-82b3-2dda3bb6bd54"
   },
   "outputs": [],
   "source": [
    "my_list = music_recommender.recommend()\n"
   ]
  },
  {
   "cell_type": "code",
   "execution_count": null,
   "metadata": {
    "id": "8R_NWeEAIbQU"
   },
   "outputs": [],
   "source": []
  },
  {
   "cell_type": "code",
   "execution_count": null,
   "metadata": {
    "id": "-rfyPJb8LckO"
   },
   "outputs": [],
   "source": []
  },
  {
   "cell_type": "code",
   "execution_count": null,
   "metadata": {
    "id": "FDjSkU3FLcme"
   },
   "outputs": [],
   "source": []
  },
  {
   "cell_type": "markdown",
   "metadata": {
    "id": "1dMdRCIOLevh"
   },
   "source": [
    "# Test Datast"
   ]
  },
  {
   "cell_type": "code",
   "execution_count": null,
   "metadata": {
    "id": "UgwIIb8iLcpT"
   },
   "outputs": [],
   "source": []
  },
  {
   "cell_type": "code",
   "execution_count": null,
   "metadata": {
    "colab": {
     "base_uri": "https://localhost:8080/"
    },
    "id": "Qj8z3-HWLcrr",
    "outputId": "c7c4fb36-ee38-4480-e2f3-5827e123e5b9"
   },
   "outputs": [],
   "source": [
    "folder = os.listdir(top_songs)\n",
    "\n",
    "for i in range(len(folder)):\n",
    "  path = top_songs + '/' + folder[i]\n",
    "  for song in os.listdir(path):\n",
    "    print('    -------------------------------')\n",
    "    print('Our Song : ', song)\n",
    "\n",
    "    music_recommender = Music_Recommender()\n",
    "\n",
    "    music_recommender.fit_song(path + '/' + song)\n",
    "    music_recommender.run()\n",
    "    \n",
    "    music_recommender.recommend()\n",
    "\n",
    "    print('    -------------------------------\\n')\n",
    "    "
   ]
  },
  {
   "cell_type": "code",
   "execution_count": null,
   "metadata": {
    "id": "yPEx5a9HLcuc"
   },
   "outputs": [],
   "source": []
  },
  {
   "cell_type": "code",
   "execution_count": null,
   "metadata": {
    "id": "wvjBgKsVLcxP"
   },
   "outputs": [],
   "source": []
  },
  {
   "cell_type": "code",
   "execution_count": null,
   "metadata": {
    "colab": {
     "base_uri": "https://localhost:8080/"
    },
    "id": "Txj77NC2Lczo",
    "outputId": "b658c660-b909-467e-dd4c-73de4c6ed044"
   },
   "outputs": [],
   "source": [
    "folder = os.listdir(top_songs)\n",
    "\n",
    "# Taking only 10 songs\n",
    "for i in range(len(folder)):\n",
    "  path = top_songs + '/' + folder[i]\n",
    "  for song in os.listdir(path):\n",
    "    print('    -------------------------------')\n",
    "    print('Our Song : ', song)\n",
    "\n",
    "    music_recommender = Music_Recommender()\n",
    "\n",
    "    music_recommender.fit_song(path + '/' + song)\n",
    "    music_recommender.run()\n",
    "    \n",
    "    music_recommender.get_recommendation_n(2)\n",
    "\n",
    "    print('    -------------------------------\\n')"
   ]
  },
  {
   "cell_type": "code",
   "execution_count": null,
   "metadata": {
    "id": "jPSR6MH7Lc2F"
   },
   "outputs": [],
   "source": []
  },
  {
   "cell_type": "code",
   "execution_count": null,
   "metadata": {
    "id": "9aEaO9n304uC"
   },
   "outputs": [],
   "source": []
  }
 ],
 "metadata": {
  "colab": {
   "collapsed_sections": [],
   "name": "Recommender.ipynb",
   "provenance": []
  },
  "kernelspec": {
   "display_name": "Python 3",
   "language": "python",
   "name": "python3"
  },
  "language_info": {
   "codemirror_mode": {
    "name": "ipython",
    "version": 3
   },
   "file_extension": ".py",
   "mimetype": "text/x-python",
   "name": "python",
   "nbconvert_exporter": "python",
   "pygments_lexer": "ipython3",
   "version": "3.8.8"
  }
 },
 "nbformat": 4,
 "nbformat_minor": 1
}
